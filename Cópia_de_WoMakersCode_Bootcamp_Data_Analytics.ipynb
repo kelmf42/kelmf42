{
  "nbformat": 4,
  "nbformat_minor": 0,
  "metadata": {
    "colab": {
      "provenance": []
    },
    "kernelspec": {
      "name": "python3",
      "display_name": "Python 3"
    },
    "language_info": {
      "name": "python"
    }
  },
  "cells": [
    {
      "cell_type": "markdown",
      "source": [
        "DESAFIO 1\n",
        "\n",
        "Crie um programa que solicita ao usuário que insira três notas (valores de 0 a 10) e, em seguida, calcule e exiba a média dessas notas.\n",
        "\n",
        "Além disso, informe ao usuário se ele foi aprovado ou reprovado com base na média das notas, considerando a média mínima de aprovação como 6."
      ],
      "metadata": {
        "id": "sdBUCCdzeef3"
      }
    },
    {
      "cell_type": "code",
      "source": [
        "# Solicita ao usuário que insira as três notas\n",
        "nota1 = float(input(\"Digite a primeira nota (de 0 a 10): \"))\n",
        "nota2 = float(input(\"Digite a segunda nota (de 0 a 10): \"))\n",
        "nota3 = float(input(\"Digite a terceira nota (de 0 a 10): \"))\n",
        "\n",
        "# Calcula a média das notas\n",
        "media = (nota1 + nota2 + nota3) / 3\n",
        "\n",
        "# Verifica se o aluno foi aprovado ou reprovado\n",
        "if media >= 6:\n",
        "    print(f\"A média é {media:.2f}. Parabéns, você foi aprovado!\")\n",
        "else:\n",
        "    print(f\"A média é {media:.2f}. Infelizmente, você foi reprovado.\")\n"
      ],
      "metadata": {
        "id": "SWS6Ej7cDgoV",
        "outputId": "a765f0b6-1bbf-43fd-efe4-e1b35e7c9582",
        "colab": {
          "base_uri": "https://localhost:8080/"
        }
      },
      "execution_count": null,
      "outputs": [
        {
          "output_type": "stream",
          "name": "stdout",
          "text": [
            "Digite a primeira nota (de 0 a 10): 6\n",
            "Digite a segunda nota (de 0 a 10): 4\n",
            "Digite a terceira nota (de 0 a 10): 8\n",
            "A média é 6.00. Parabéns, você foi aprovado!\n"
          ]
        }
      ]
    },
    {
      "cell_type": "markdown",
      "source": [
        "DESAFIO 2\n",
        "\n",
        "Crie um programa que solicita ao usuário que insira um número inteiro e, em seguida, verifica se o número é par ou ímpar.\n",
        "\n",
        "O programa deve exibir uma mensagem indicando se o número é par ou ímpar."
      ],
      "metadata": {
        "id": "ClKDF5t4gEyu"
      }
    },
    {
      "cell_type": "code",
      "source": [
        "# Solicita ao usuário que insira um número inteiro\n",
        "numero = int(input(\"Por favor digite um inteiro: \"))\n",
        "\n",
        "# Verifica se o número é par ou ímpar\n",
        "if numero % 2 == 0:\n",
        "    print(\"Par\")\n",
        "else:\n",
        "    print(\"Ímpar\")\n"
      ],
      "metadata": {
        "id": "Hrf4owk4De3b",
        "outputId": "cb43e66e-902b-4dc3-e7e6-016225079aa7",
        "colab": {
          "base_uri": "https://localhost:8080/"
        }
      },
      "execution_count": null,
      "outputs": [
        {
          "output_type": "stream",
          "name": "stdout",
          "text": [
            "Por favor digite um inteiro: 6\n",
            "Par\n"
          ]
        }
      ]
    },
    {
      "cell_type": "code",
      "source": [
        "#Execute seu código aqui\n",
        "# Solicita ao usuário que insira um número inteiro\n",
        "numero = int(input(\"Por favor digite um inteiro: \"))\n",
        "\n",
        "# Verifica se o número é par ou ímpar\n",
        "if numero % 2 == 0:\n",
        "    print(\"Par\")\n",
        "else:\n",
        "  print(\"Ímpar\")"
      ],
      "metadata": {
        "id": "GWkFk92kfuiO",
        "outputId": "267702f3-23f4-4b87-ee18-60850b125ab1",
        "colab": {
          "base_uri": "https://localhost:8080/"
        }
      },
      "execution_count": null,
      "outputs": [
        {
          "output_type": "stream",
          "name": "stdout",
          "text": [
            "Por favor digite um inteiro: 9\n",
            "Ímpar\n"
          ]
        }
      ]
    },
    {
      "cell_type": "markdown",
      "source": [
        "DESAFIO 3\n",
        "\n",
        "Crie um programa que verifica se uma palavra fornecida pelo usuário é um palíndromo ou não.\n",
        "\n",
        "(Um palíndromo é uma palavra que é lida da mesma forma tanto da esquerda para a direita quanto da direita para a esquerda.)"
      ],
      "metadata": {
        "id": "MmsZIAj-e0NX"
      }
    },
    {
      "cell_type": "code",
      "source": [
        "#Execute seu código aqui\n",
        "def epalindromo(palavra):\n",
        "    # Remove espaços e converte para letras minúsculas\n",
        "    palavra = palavra.replace(\" \", \"\").lower()\n",
        "\n",
        "    # Verifica se a palavra é igual à sua versão invertida\n",
        "    return palavra == palavra[::-1]\n",
        "\n",
        "# Solicita ao usuário que insira uma palavra\n",
        "palavra_usuario = input(\"Digite uma palavra: \")\n",
        "\n",
        "# Verifica se a palavra é um palíndromo\n",
        "if epalindromo(palavra_usuario):\n",
        "    print(f\"{palavra_usuario} é um palíndromo!\")\n",
        "else:\n",
        "    print(f\"{palavra_usuario} não é um palíndromo.\")\n"
      ],
      "metadata": {
        "id": "PobFqQqafLNj",
        "outputId": "bbe0919d-8ec9-413d-f202-f16d6163075f",
        "colab": {
          "base_uri": "https://localhost:8080/"
        }
      },
      "execution_count": null,
      "outputs": [
        {
          "output_type": "stream",
          "name": "stdout",
          "text": [
            "Digite uma palavra: arara\n",
            "arara é um palíndromo!\n"
          ]
        }
      ]
    },
    {
      "cell_type": "markdown",
      "source": [
        "DESAFIO 4\n",
        "\n",
        "Crie um programa que solicita ao usuário que insira um número inteiro positivo e, em seguida, calcula e exibe o fatorial desse número.\n",
        "\n",
        "(O fatorial de um número é o produto de todos os números inteiros positivos de 1 até o próprio número.)"
      ],
      "metadata": {
        "id": "9WPRqUfIgLQK"
      }
    },
    {
      "cell_type": "code",
      "source": [
        "#Execute seu código aqui\n",
        "def calcular_fatorial(numero):\n",
        "    # Inicializa o resultado com 1\n",
        "    resultado = 1\n",
        "\n",
        "    # Calcula o fatorial\n",
        "    for i in range(1, numero + 1):\n",
        "        resultado *= i\n",
        "\n",
        "    return resultado\n",
        "\n",
        "try:\n",
        "    numero = int(input(\"Por favor digite um número inteiro positivo: \"))\n",
        "    if numero < 0:\n",
        "        print(\"Por favor, digite um número positivo.\")\n",
        "    else:\n",
        "        print(f\"O fatorial de {numero} é {calcular_fatorial(numero)}.\")\n",
        "except ValueError:\n",
        "    print(\"Entrada inválida. Por favor digite um número inteiro positivo.\")\n",
        "\n",
        "\n"
      ],
      "metadata": {
        "id": "B3VE36bRgJWu",
        "outputId": "4eaf77f6-d91c-4d55-90e6-d4d863bdd929",
        "colab": {
          "base_uri": "https://localhost:8080/"
        }
      },
      "execution_count": null,
      "outputs": [
        {
          "output_type": "stream",
          "name": "stdout",
          "text": [
            "Por favor digite um número inteiro positivo: 8\n",
            "O fatorial de 8 é 40320.\n"
          ]
        }
      ]
    },
    {
      "cell_type": "code",
      "source": [
        "from google.colab import drive\n",
        "drive.mount('/content/drive')"
      ],
      "metadata": {
        "id": "WCfzwU6p3vG4"
      },
      "execution_count": null,
      "outputs": []
    },
    {
      "cell_type": "markdown",
      "source": [
        "DESAFIO 5\n",
        "\n",
        "Crie um programa que permita ao usuário gerenciar suas tarefas diárias. O programa deve oferecer as seguintes funcionalidades:\n",
        "\n",
        "*   Adicionar uma nova tarefa;\n",
        "*   Visualizar todas as tarefas;\n",
        "*   Marcar uma tarefa como concluída;\n",
        "*   Remover uma tarefa;\n",
        "*   Sair do programa.\n",
        "\n",
        "(Você pode implementar essas funcionalidades usando listas para armazenar as tarefas e estruturas de controle como loops e condicionais para interagir com o usuário.)"
      ],
      "metadata": {
        "id": "dLmeFEi2fO9f"
      }
    },
    {
      "cell_type": "code",
      "source": [
        "#Execute seu código aqui\n",
        "# Lista para armazenar as tarefas\n",
        "tarefas = []\n",
        "\n",
        "while True:\n",
        "    print(\"\\n--- Gerenciador de Tarefas ---\")\n",
        "    print(\"1. Adicionar nova tarefa\")\n",
        "    print(\"2. Visualizar todas as tarefas\")\n",
        "    print(\"3. Marcar tarefa como concluída\")\n",
        "    print(\"4. Remover tarefa\")\n",
        "    print(\"5. Sair\")\n",
        "\n",
        "    opcao = input(\"Escolha uma opção (1-5): \")\n",
        "\n",
        "    if opcao == \"1\":\n",
        "        descricao = input(\"Por favor digite a descrição da nova tarefa: \")\n",
        "        tarefas.append(descricao)\n",
        "        print(\"Tarefa adicionada com sucesso!\")\n",
        "\n",
        "    elif opcao == \"2\":\n",
        "        print(\"\\n--- Lista de Tarefas ---\")\n",
        "        for i, tarefa in enumerate(tarefas, start=1):\n",
        "            print(f\"{i}. {tarefa}\")\n",
        "\n",
        "    elif opcao == \"3\":\n",
        "        try:\n",
        "            indice = int(input(\"Por favor digite o número da tarefa concluída: \")) - 1\n",
        "            tarefas[indice] += \" (concluída)\"\n",
        "            print(\"Tarefa marcada como concluída!\")\n",
        "        except (ValueError, IndexError):\n",
        "            print(\"Opção inválida.\")\n",
        "\n",
        "    elif opcao == \"4\":\n",
        "        try:\n",
        "            indice = int(input(\"Por favor digite o número da tarefa a ser removida: \")) - 1\n",
        "            tarefas.pop(indice)\n",
        "            print(\"Tarefa removida com sucesso!\")\n",
        "        except (ValueError, IndexError):\n",
        "            print(\"Opção inválida.\")\n",
        "\n",
        "    elif opcao == \"5\":\n",
        "        print(\"Programa encerrado.\")\n",
        "        break\n",
        "\n",
        "    else:\n",
        "        print(\"Opção inválida. Por favor escolha novamente.\")\n"
      ],
      "metadata": {
        "id": "8oExqSgagGzn",
        "outputId": "d444d889-b3bc-4cf8-fd79-e869fcbc1c42",
        "colab": {
          "base_uri": "https://localhost:8080/"
        }
      },
      "execution_count": null,
      "outputs": [
        {
          "output_type": "stream",
          "name": "stdout",
          "text": [
            "\n",
            "--- Gerenciador de Tarefas ---\n",
            "1. Adicionar nova tarefa\n",
            "2. Visualizar todas as tarefas\n",
            "3. Marcar tarefa como concluída\n",
            "4. Remover tarefa\n",
            "5. Sair\n",
            "Escolha uma opção (1-5): 2\n",
            "\n",
            "--- Lista de Tarefas ---\n",
            "\n",
            "--- Gerenciador de Tarefas ---\n",
            "1. Adicionar nova tarefa\n",
            "2. Visualizar todas as tarefas\n",
            "3. Marcar tarefa como concluída\n",
            "4. Remover tarefa\n",
            "5. Sair\n",
            "Escolha uma opção (1-5): 2\n",
            "\n",
            "--- Lista de Tarefas ---\n",
            "\n",
            "--- Gerenciador de Tarefas ---\n",
            "1. Adicionar nova tarefa\n",
            "2. Visualizar todas as tarefas\n",
            "3. Marcar tarefa como concluída\n",
            "4. Remover tarefa\n",
            "5. Sair\n",
            "Escolha uma opção (1-5): 1\n",
            "Por favor digite a descrição da nova tarefa: fazer café\n",
            "Tarefa adicionada com sucesso!\n",
            "\n",
            "--- Gerenciador de Tarefas ---\n",
            "1. Adicionar nova tarefa\n",
            "2. Visualizar todas as tarefas\n",
            "3. Marcar tarefa como concluída\n",
            "4. Remover tarefa\n",
            "5. Sair\n",
            "Escolha uma opção (1-5): 2\n",
            "\n",
            "--- Lista de Tarefas ---\n",
            "1. fazer café\n",
            "\n",
            "--- Gerenciador de Tarefas ---\n",
            "1. Adicionar nova tarefa\n",
            "2. Visualizar todas as tarefas\n",
            "3. Marcar tarefa como concluída\n",
            "4. Remover tarefa\n",
            "5. Sair\n",
            "Escolha uma opção (1-5): 3\n",
            "Por favor digite o número da tarefa concluída: 1\n",
            "Tarefa marcada como concluída!\n",
            "\n",
            "--- Gerenciador de Tarefas ---\n",
            "1. Adicionar nova tarefa\n",
            "2. Visualizar todas as tarefas\n",
            "3. Marcar tarefa como concluída\n",
            "4. Remover tarefa\n",
            "5. Sair\n",
            "Escolha uma opção (1-5): 2\n",
            "\n",
            "--- Lista de Tarefas ---\n",
            "1. fazer café (concluída)\n",
            "\n",
            "--- Gerenciador de Tarefas ---\n",
            "1. Adicionar nova tarefa\n",
            "2. Visualizar todas as tarefas\n",
            "3. Marcar tarefa como concluída\n",
            "4. Remover tarefa\n",
            "5. Sair\n"
          ]
        }
      ]
    }
  ]
}